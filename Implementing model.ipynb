{
 "cells": [
  {
   "cell_type": "code",
   "execution_count": 13,
   "metadata": {
    "collapsed": true
   },
   "outputs": [],
   "source": [
    "# Importing the libraries\n",
    "import numpy as np\n",
    "import matplotlib.pyplot as plt\n",
    "import pandas as pd"
   ]
  },
  {
   "cell_type": "code",
   "execution_count": 14,
   "metadata": {
    "collapsed": false
   },
   "outputs": [],
   "source": [
    "#loading ANN mode\n",
    "\n",
    "from keras.models import load_model\n",
    "model = load_model('ANNmodel.h5')"
   ]
  },
  {
   "cell_type": "code",
   "execution_count": 15,
   "metadata": {
    "collapsed": false
   },
   "outputs": [
    {
     "name": "stdout",
     "output_type": "stream",
     "text": [
      "enter age:37\n",
      "enter sex(M/F):M\n",
      "enter chest pain:3\n",
      "enter blood pressure:130\n",
      "enter serum cholestoral:250\n",
      "enter fasting blood sugar:0\n",
      "enter electrocardiographic:0\n",
      "enter max heart rate:187\n",
      "enter induced angina:0\n",
      "enter ST depression:3.5\n",
      "enter slope:3\n",
      "enter vessels:0\n",
      "enter thal:3\n"
     ]
    }
   ],
   "source": [
    "#user input \n",
    "age=input(\"enter age:\")\n",
    "sex=input(\"enter sex(M/F):\")\n",
    "if sex=='M':\n",
    "    sex=1\n",
    "else:\n",
    "    sex=0\n",
    "chest_pain=input(\"enter chest pain:\")\n",
    "blood_pressure=input(\"enter blood pressure:\")\n",
    "serum_cholestoral=input(\"enter serum cholestoral:\")\n",
    "fasting_blood_sugar=input(\"enter fasting blood sugar:\")\n",
    "electrocardiographic=input(\"enter electrocardiographic:\")\n",
    "max_heart_rate=input(\"enter max heart rate:\")\n",
    "induced_angina=input(\"enter induced angina:\")\n",
    "ST_depression=input(\"enter ST depression:\")\n",
    "slope=input(\"enter slope:\")\n",
    "vessels=input(\"enter vessels:\")\n",
    "thal=input(\"enter thal:\")"
   ]
  },
  {
   "cell_type": "code",
   "execution_count": 16,
   "metadata": {
    "collapsed": true
   },
   "outputs": [],
   "source": [
    "#creating a array \n",
    "data=np.array([[age,sex,chest_pain,blood_pressure,serum_cholestoral,fasting_blood_sugar,electrocardiographic,\n",
    "                max_heart_rate,induced_angina,ST_depression,slope,vessels,thal]])"
   ]
  },
  {
   "cell_type": "code",
   "execution_count": 17,
   "metadata": {
    "collapsed": false
   },
   "outputs": [
    {
     "name": "stdout",
     "output_type": "stream",
     "text": [
      "[[0.]]\n"
     ]
    }
   ],
   "source": [
    "#predicting result\n",
    "diagonis=np.around(model.predict(data),0)\n",
    "print(diagonis)"
   ]
  },
  {
   "cell_type": "code",
   "execution_count": null,
   "metadata": {
    "collapsed": true
   },
   "outputs": [],
   "source": []
  }
 ],
 "metadata": {
  "anaconda-cloud": {},
  "kernelspec": {
   "display_name": "Python [conda root]",
   "language": "python",
   "name": "conda-root-py"
  },
  "language_info": {
   "codemirror_mode": {
    "name": "ipython",
    "version": 3
   },
   "file_extension": ".py",
   "mimetype": "text/x-python",
   "name": "python",
   "nbconvert_exporter": "python",
   "pygments_lexer": "ipython3",
   "version": "3.5.2"
  }
 },
 "nbformat": 4,
 "nbformat_minor": 1
}
